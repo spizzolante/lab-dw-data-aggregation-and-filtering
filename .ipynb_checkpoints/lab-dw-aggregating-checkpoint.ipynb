{
 "cells": [
  {
   "cell_type": "markdown",
   "id": "31969215-2a90-4d8b-ac36-646a7ae13744",
   "metadata": {
    "id": "31969215-2a90-4d8b-ac36-646a7ae13744"
   },
   "source": [
    "# Lab | Data Aggregation and Filtering"
   ]
  },
  {
   "cell_type": "markdown",
   "id": "a8f08a52-bec0-439b-99cc-11d3809d8b5d",
   "metadata": {
    "id": "a8f08a52-bec0-439b-99cc-11d3809d8b5d"
   },
   "source": [
    "In this challenge, we will continue to work with customer data from an insurance company. We will use the dataset called marketing_customer_analysis.csv, which can be found at the following link:\n",
    "\n",
    "https://raw.githubusercontent.com/data-bootcamp-v4/data/main/marketing_customer_analysis.csv\n",
    "\n",
    "This dataset contains information such as customer demographics, policy details, vehicle information, and the customer's response to the last marketing campaign. Our goal is to explore and analyze this data by first performing data cleaning, formatting, and structuring."
   ]
  },
  {
   "cell_type": "markdown",
   "id": "9c98ddc5-b041-4c94-ada1-4dfee5c98e50",
   "metadata": {
    "id": "9c98ddc5-b041-4c94-ada1-4dfee5c98e50"
   },
   "source": [
    "1. Create a new DataFrame that only includes customers who have a total_claim_amount greater than $1,000 and have a response of \"Yes\" to the last marketing campaign."
   ]
  },
  {
   "cell_type": "markdown",
   "id": "b9be383e-5165-436e-80c8-57d4c757c8c3",
   "metadata": {
    "id": "b9be383e-5165-436e-80c8-57d4c757c8c3"
   },
   "source": [
    "2. Using the original Dataframe, analyze the average total_claim_amount by each policy type and gender for customers who have responded \"Yes\" to the last marketing campaign. Write your conclusions."
   ]
  },
  {
   "cell_type": "markdown",
   "id": "7050f4ac-53c5-4193-a3c0-8699b87196f0",
   "metadata": {
    "id": "7050f4ac-53c5-4193-a3c0-8699b87196f0"
   },
   "source": [
    "3. Analyze the total number of customers who have policies in each state, and then filter the results to only include states where there are more than 500 customers."
   ]
  },
  {
   "cell_type": "markdown",
   "id": "b60a4443-a1a7-4bbf-b78e-9ccdf9895e0d",
   "metadata": {
    "id": "b60a4443-a1a7-4bbf-b78e-9ccdf9895e0d"
   },
   "source": [
    "4. Find the maximum, minimum, and median customer lifetime value by education level and gender. Write your conclusions."
   ]
  },
  {
   "cell_type": "markdown",
   "id": "b42999f9-311f-481e-ae63-40a5577072c5",
   "metadata": {
    "id": "b42999f9-311f-481e-ae63-40a5577072c5"
   },
   "source": [
    "## Bonus"
   ]
  },
  {
   "cell_type": "markdown",
   "id": "81ff02c5-6584-4f21-a358-b918697c6432",
   "metadata": {
    "id": "81ff02c5-6584-4f21-a358-b918697c6432"
   },
   "source": [
    "5. The marketing team wants to analyze the number of policies sold by state and month. Present the data in a table where the months are arranged as columns and the states are arranged as rows."
   ]
  },
  {
   "cell_type": "markdown",
   "id": "b6aec097-c633-4017-a125-e77a97259cda",
   "metadata": {
    "id": "b6aec097-c633-4017-a125-e77a97259cda"
   },
   "source": [
    "6.  Display a new DataFrame that contains the number of policies sold by month, by state, for the top 3 states with the highest number of policies sold.\n",
    "\n",
    "*Hint:*\n",
    "- *To accomplish this, you will first need to group the data by state and month, then count the number of policies sold for each group. Afterwards, you will need to sort the data by the count of policies sold in descending order.*\n",
    "- *Next, you will select the top 3 states with the highest number of policies sold.*\n",
    "- *Finally, you will create a new DataFrame that contains the number of policies sold by month for each of the top 3 states.*"
   ]
  },
  {
   "cell_type": "markdown",
   "id": "ba975b8a-a2cf-4fbf-9f59-ebc381767009",
   "metadata": {
    "id": "ba975b8a-a2cf-4fbf-9f59-ebc381767009"
   },
   "source": [
    "7. The marketing team wants to analyze the effect of different marketing channels on the customer response rate.\n",
    "\n",
    "Hint: You can use melt to unpivot the data and create a table that shows the customer response rate (those who responded \"Yes\") by marketing channel."
   ]
  },
  {
   "cell_type": "markdown",
   "id": "e4378d94-48fb-4850-a802-b1bc8f427b2d",
   "metadata": {
    "id": "e4378d94-48fb-4850-a802-b1bc8f427b2d"
   },
   "source": [
    "External Resources for Data Filtering: https://towardsdatascience.com/filtering-data-frames-in-pandas-b570b1f834b9"
   ]
  },
  {
   "cell_type": "code",
   "execution_count": 1,
   "id": "d4324775",
   "metadata": {
    "scrolled": true
   },
   "outputs": [
    {
     "data": {
      "text/html": [
       "<div>\n",
       "<style scoped>\n",
       "    .dataframe tbody tr th:only-of-type {\n",
       "        vertical-align: middle;\n",
       "    }\n",
       "\n",
       "    .dataframe tbody tr th {\n",
       "        vertical-align: top;\n",
       "    }\n",
       "\n",
       "    .dataframe thead th {\n",
       "        text-align: right;\n",
       "    }\n",
       "</style>\n",
       "<table border=\"1\" class=\"dataframe\">\n",
       "  <thead>\n",
       "    <tr style=\"text-align: right;\">\n",
       "      <th></th>\n",
       "      <th>Unnamed: 0</th>\n",
       "      <th>Customer</th>\n",
       "      <th>State</th>\n",
       "      <th>Customer Lifetime Value</th>\n",
       "      <th>Response</th>\n",
       "      <th>Coverage</th>\n",
       "      <th>Education</th>\n",
       "      <th>Effective To Date</th>\n",
       "      <th>EmploymentStatus</th>\n",
       "      <th>Gender</th>\n",
       "      <th>...</th>\n",
       "      <th>Number of Open Complaints</th>\n",
       "      <th>Number of Policies</th>\n",
       "      <th>Policy Type</th>\n",
       "      <th>Policy</th>\n",
       "      <th>Renew Offer Type</th>\n",
       "      <th>Sales Channel</th>\n",
       "      <th>Total Claim Amount</th>\n",
       "      <th>Vehicle Class</th>\n",
       "      <th>Vehicle Size</th>\n",
       "      <th>Vehicle Type</th>\n",
       "    </tr>\n",
       "  </thead>\n",
       "  <tbody>\n",
       "    <tr>\n",
       "      <th>0</th>\n",
       "      <td>0</td>\n",
       "      <td>DK49336</td>\n",
       "      <td>Arizona</td>\n",
       "      <td>4809.216960</td>\n",
       "      <td>No</td>\n",
       "      <td>Basic</td>\n",
       "      <td>College</td>\n",
       "      <td>2/18/11</td>\n",
       "      <td>Employed</td>\n",
       "      <td>M</td>\n",
       "      <td>...</td>\n",
       "      <td>0.0</td>\n",
       "      <td>9</td>\n",
       "      <td>Corporate Auto</td>\n",
       "      <td>Corporate L3</td>\n",
       "      <td>Offer3</td>\n",
       "      <td>Agent</td>\n",
       "      <td>292.800000</td>\n",
       "      <td>Four-Door Car</td>\n",
       "      <td>Medsize</td>\n",
       "      <td>NaN</td>\n",
       "    </tr>\n",
       "    <tr>\n",
       "      <th>1</th>\n",
       "      <td>1</td>\n",
       "      <td>KX64629</td>\n",
       "      <td>California</td>\n",
       "      <td>2228.525238</td>\n",
       "      <td>No</td>\n",
       "      <td>Basic</td>\n",
       "      <td>College</td>\n",
       "      <td>1/18/11</td>\n",
       "      <td>Unemployed</td>\n",
       "      <td>F</td>\n",
       "      <td>...</td>\n",
       "      <td>0.0</td>\n",
       "      <td>1</td>\n",
       "      <td>Personal Auto</td>\n",
       "      <td>Personal L3</td>\n",
       "      <td>Offer4</td>\n",
       "      <td>Call Center</td>\n",
       "      <td>744.924331</td>\n",
       "      <td>Four-Door Car</td>\n",
       "      <td>Medsize</td>\n",
       "      <td>NaN</td>\n",
       "    </tr>\n",
       "    <tr>\n",
       "      <th>2</th>\n",
       "      <td>2</td>\n",
       "      <td>LZ68649</td>\n",
       "      <td>Washington</td>\n",
       "      <td>14947.917300</td>\n",
       "      <td>No</td>\n",
       "      <td>Basic</td>\n",
       "      <td>Bachelor</td>\n",
       "      <td>2/10/11</td>\n",
       "      <td>Employed</td>\n",
       "      <td>M</td>\n",
       "      <td>...</td>\n",
       "      <td>0.0</td>\n",
       "      <td>2</td>\n",
       "      <td>Personal Auto</td>\n",
       "      <td>Personal L3</td>\n",
       "      <td>Offer3</td>\n",
       "      <td>Call Center</td>\n",
       "      <td>480.000000</td>\n",
       "      <td>SUV</td>\n",
       "      <td>Medsize</td>\n",
       "      <td>A</td>\n",
       "    </tr>\n",
       "    <tr>\n",
       "      <th>3</th>\n",
       "      <td>3</td>\n",
       "      <td>XL78013</td>\n",
       "      <td>Oregon</td>\n",
       "      <td>22332.439460</td>\n",
       "      <td>Yes</td>\n",
       "      <td>Extended</td>\n",
       "      <td>College</td>\n",
       "      <td>1/11/11</td>\n",
       "      <td>Employed</td>\n",
       "      <td>M</td>\n",
       "      <td>...</td>\n",
       "      <td>0.0</td>\n",
       "      <td>2</td>\n",
       "      <td>Corporate Auto</td>\n",
       "      <td>Corporate L3</td>\n",
       "      <td>Offer2</td>\n",
       "      <td>Branch</td>\n",
       "      <td>484.013411</td>\n",
       "      <td>Four-Door Car</td>\n",
       "      <td>Medsize</td>\n",
       "      <td>A</td>\n",
       "    </tr>\n",
       "    <tr>\n",
       "      <th>4</th>\n",
       "      <td>4</td>\n",
       "      <td>QA50777</td>\n",
       "      <td>Oregon</td>\n",
       "      <td>9025.067525</td>\n",
       "      <td>No</td>\n",
       "      <td>Premium</td>\n",
       "      <td>Bachelor</td>\n",
       "      <td>1/17/11</td>\n",
       "      <td>Medical Leave</td>\n",
       "      <td>F</td>\n",
       "      <td>...</td>\n",
       "      <td>NaN</td>\n",
       "      <td>7</td>\n",
       "      <td>Personal Auto</td>\n",
       "      <td>Personal L2</td>\n",
       "      <td>Offer1</td>\n",
       "      <td>Branch</td>\n",
       "      <td>707.925645</td>\n",
       "      <td>Four-Door Car</td>\n",
       "      <td>Medsize</td>\n",
       "      <td>NaN</td>\n",
       "    </tr>\n",
       "  </tbody>\n",
       "</table>\n",
       "<p>5 rows × 26 columns</p>\n",
       "</div>"
      ],
      "text/plain": [
       "   Unnamed: 0 Customer       State  Customer Lifetime Value Response  \\\n",
       "0           0  DK49336     Arizona              4809.216960       No   \n",
       "1           1  KX64629  California              2228.525238       No   \n",
       "2           2  LZ68649  Washington             14947.917300       No   \n",
       "3           3  XL78013      Oregon             22332.439460      Yes   \n",
       "4           4  QA50777      Oregon              9025.067525       No   \n",
       "\n",
       "   Coverage Education Effective To Date EmploymentStatus Gender  ...  \\\n",
       "0     Basic   College           2/18/11         Employed      M  ...   \n",
       "1     Basic   College           1/18/11       Unemployed      F  ...   \n",
       "2     Basic  Bachelor           2/10/11         Employed      M  ...   \n",
       "3  Extended   College           1/11/11         Employed      M  ...   \n",
       "4   Premium  Bachelor           1/17/11    Medical Leave      F  ...   \n",
       "\n",
       "   Number of Open Complaints Number of Policies     Policy Type        Policy  \\\n",
       "0                        0.0                  9  Corporate Auto  Corporate L3   \n",
       "1                        0.0                  1   Personal Auto   Personal L3   \n",
       "2                        0.0                  2   Personal Auto   Personal L3   \n",
       "3                        0.0                  2  Corporate Auto  Corporate L3   \n",
       "4                        NaN                  7   Personal Auto   Personal L2   \n",
       "\n",
       "   Renew Offer Type  Sales Channel  Total Claim Amount  Vehicle Class  \\\n",
       "0            Offer3          Agent          292.800000  Four-Door Car   \n",
       "1            Offer4    Call Center          744.924331  Four-Door Car   \n",
       "2            Offer3    Call Center          480.000000            SUV   \n",
       "3            Offer2         Branch          484.013411  Four-Door Car   \n",
       "4            Offer1         Branch          707.925645  Four-Door Car   \n",
       "\n",
       "  Vehicle Size Vehicle Type  \n",
       "0      Medsize          NaN  \n",
       "1      Medsize          NaN  \n",
       "2      Medsize            A  \n",
       "3      Medsize            A  \n",
       "4      Medsize          NaN  \n",
       "\n",
       "[5 rows x 26 columns]"
      ]
     },
     "execution_count": 1,
     "metadata": {},
     "output_type": "execute_result"
    }
   ],
   "source": [
    "# your code goes here\n",
    "import pandas as pd\n",
    "\n",
    "url = 'https://raw.githubusercontent.com/data-bootcamp-v4/data/main/marketing_customer_analysis.csv'\n",
    "df_marketing = pd.read_csv(url)\n",
    "df_marketing.head()"
   ]
  },
  {
   "cell_type": "code",
   "execution_count": 10,
   "id": "05feac55",
   "metadata": {},
   "outputs": [
    {
     "data": {
      "text/html": [
       "<div>\n",
       "<style scoped>\n",
       "    .dataframe tbody tr th:only-of-type {\n",
       "        vertical-align: middle;\n",
       "    }\n",
       "\n",
       "    .dataframe tbody tr th {\n",
       "        vertical-align: top;\n",
       "    }\n",
       "\n",
       "    .dataframe thead th {\n",
       "        text-align: right;\n",
       "    }\n",
       "</style>\n",
       "<table border=\"1\" class=\"dataframe\">\n",
       "  <thead>\n",
       "    <tr style=\"text-align: right;\">\n",
       "      <th></th>\n",
       "      <th>Unnamed: 0</th>\n",
       "      <th>Customer</th>\n",
       "      <th>State</th>\n",
       "      <th>Customer Lifetime Value</th>\n",
       "      <th>Response</th>\n",
       "      <th>Coverage</th>\n",
       "      <th>Education</th>\n",
       "      <th>Effective To Date</th>\n",
       "      <th>EmploymentStatus</th>\n",
       "      <th>Gender</th>\n",
       "      <th>...</th>\n",
       "      <th>Number of Policies</th>\n",
       "      <th>Policy Type</th>\n",
       "      <th>Policy</th>\n",
       "      <th>Renew Offer Type</th>\n",
       "      <th>Sales Channel</th>\n",
       "      <th>Total Claim Amount</th>\n",
       "      <th>Vehicle Class</th>\n",
       "      <th>Vehicle Size</th>\n",
       "      <th>Vehicle Type</th>\n",
       "      <th>month_num</th>\n",
       "    </tr>\n",
       "  </thead>\n",
       "  <tbody>\n",
       "    <tr>\n",
       "      <th>189</th>\n",
       "      <td>189</td>\n",
       "      <td>OK31456</td>\n",
       "      <td>California</td>\n",
       "      <td>11009.130490</td>\n",
       "      <td>Yes</td>\n",
       "      <td>Premium</td>\n",
       "      <td>Bachelor</td>\n",
       "      <td>1/24/11</td>\n",
       "      <td>Employed</td>\n",
       "      <td>F</td>\n",
       "      <td>...</td>\n",
       "      <td>1</td>\n",
       "      <td>Corporate Auto</td>\n",
       "      <td>Corporate L3</td>\n",
       "      <td>Offer2</td>\n",
       "      <td>Agent</td>\n",
       "      <td>1358.400000</td>\n",
       "      <td>Luxury Car</td>\n",
       "      <td>Medsize</td>\n",
       "      <td>NaN</td>\n",
       "      <td>1.0</td>\n",
       "    </tr>\n",
       "    <tr>\n",
       "      <th>236</th>\n",
       "      <td>236</td>\n",
       "      <td>YJ16163</td>\n",
       "      <td>Oregon</td>\n",
       "      <td>11009.130490</td>\n",
       "      <td>Yes</td>\n",
       "      <td>Premium</td>\n",
       "      <td>Bachelor</td>\n",
       "      <td>1/24/11</td>\n",
       "      <td>Employed</td>\n",
       "      <td>F</td>\n",
       "      <td>...</td>\n",
       "      <td>1</td>\n",
       "      <td>Special Auto</td>\n",
       "      <td>Special L3</td>\n",
       "      <td>Offer2</td>\n",
       "      <td>Agent</td>\n",
       "      <td>1358.400000</td>\n",
       "      <td>Luxury Car</td>\n",
       "      <td>Medsize</td>\n",
       "      <td>A</td>\n",
       "      <td>1.0</td>\n",
       "    </tr>\n",
       "    <tr>\n",
       "      <th>419</th>\n",
       "      <td>419</td>\n",
       "      <td>GW43195</td>\n",
       "      <td>Oregon</td>\n",
       "      <td>25807.063000</td>\n",
       "      <td>Yes</td>\n",
       "      <td>Extended</td>\n",
       "      <td>College</td>\n",
       "      <td>2/13/11</td>\n",
       "      <td>Employed</td>\n",
       "      <td>F</td>\n",
       "      <td>...</td>\n",
       "      <td>2</td>\n",
       "      <td>Personal Auto</td>\n",
       "      <td>Personal L2</td>\n",
       "      <td>Offer1</td>\n",
       "      <td>Branch</td>\n",
       "      <td>1027.200000</td>\n",
       "      <td>Luxury Car</td>\n",
       "      <td>Small</td>\n",
       "      <td>A</td>\n",
       "      <td>2.0</td>\n",
       "    </tr>\n",
       "    <tr>\n",
       "      <th>442</th>\n",
       "      <td>442</td>\n",
       "      <td>IP94270</td>\n",
       "      <td>Arizona</td>\n",
       "      <td>13736.132500</td>\n",
       "      <td>Yes</td>\n",
       "      <td>Premium</td>\n",
       "      <td>Master</td>\n",
       "      <td>2/13/11</td>\n",
       "      <td>Disabled</td>\n",
       "      <td>F</td>\n",
       "      <td>...</td>\n",
       "      <td>8</td>\n",
       "      <td>Personal Auto</td>\n",
       "      <td>Personal L2</td>\n",
       "      <td>Offer1</td>\n",
       "      <td>Web</td>\n",
       "      <td>1261.319869</td>\n",
       "      <td>SUV</td>\n",
       "      <td>Medsize</td>\n",
       "      <td>A</td>\n",
       "      <td>2.0</td>\n",
       "    </tr>\n",
       "    <tr>\n",
       "      <th>587</th>\n",
       "      <td>587</td>\n",
       "      <td>FJ28407</td>\n",
       "      <td>California</td>\n",
       "      <td>5619.689084</td>\n",
       "      <td>Yes</td>\n",
       "      <td>Premium</td>\n",
       "      <td>High School or Below</td>\n",
       "      <td>1/26/11</td>\n",
       "      <td>Unemployed</td>\n",
       "      <td>M</td>\n",
       "      <td>...</td>\n",
       "      <td>1</td>\n",
       "      <td>Personal Auto</td>\n",
       "      <td>Personal L1</td>\n",
       "      <td>Offer2</td>\n",
       "      <td>Web</td>\n",
       "      <td>1027.000029</td>\n",
       "      <td>SUV</td>\n",
       "      <td>Medsize</td>\n",
       "      <td>A</td>\n",
       "      <td>1.0</td>\n",
       "    </tr>\n",
       "  </tbody>\n",
       "</table>\n",
       "<p>5 rows × 27 columns</p>\n",
       "</div>"
      ],
      "text/plain": [
       "     Unnamed: 0 Customer       State  Customer Lifetime Value Response  \\\n",
       "189         189  OK31456  California             11009.130490      Yes   \n",
       "236         236  YJ16163      Oregon             11009.130490      Yes   \n",
       "419         419  GW43195      Oregon             25807.063000      Yes   \n",
       "442         442  IP94270     Arizona             13736.132500      Yes   \n",
       "587         587  FJ28407  California              5619.689084      Yes   \n",
       "\n",
       "     Coverage             Education Effective To Date EmploymentStatus Gender  \\\n",
       "189   Premium              Bachelor           1/24/11         Employed      F   \n",
       "236   Premium              Bachelor           1/24/11         Employed      F   \n",
       "419  Extended               College           2/13/11         Employed      F   \n",
       "442   Premium                Master           2/13/11         Disabled      F   \n",
       "587   Premium  High School or Below           1/26/11       Unemployed      M   \n",
       "\n",
       "     ...  Number of Policies     Policy Type        Policy  Renew Offer Type  \\\n",
       "189  ...                   1  Corporate Auto  Corporate L3            Offer2   \n",
       "236  ...                   1    Special Auto    Special L3            Offer2   \n",
       "419  ...                   2   Personal Auto   Personal L2            Offer1   \n",
       "442  ...                   8   Personal Auto   Personal L2            Offer1   \n",
       "587  ...                   1   Personal Auto   Personal L1            Offer2   \n",
       "\n",
       "     Sales Channel  Total Claim Amount  Vehicle Class  Vehicle Size  \\\n",
       "189          Agent         1358.400000     Luxury Car       Medsize   \n",
       "236          Agent         1358.400000     Luxury Car       Medsize   \n",
       "419         Branch         1027.200000     Luxury Car         Small   \n",
       "442            Web         1261.319869            SUV       Medsize   \n",
       "587            Web         1027.000029            SUV       Medsize   \n",
       "\n",
       "    Vehicle Type month_num  \n",
       "189          NaN       1.0  \n",
       "236            A       1.0  \n",
       "419            A       2.0  \n",
       "442            A       2.0  \n",
       "587            A       1.0  \n",
       "\n",
       "[5 rows x 27 columns]"
      ]
     },
     "metadata": {},
     "output_type": "display_data"
    },
    {
     "name": "stdout",
     "output_type": "stream",
     "text": [
      "(67, 27)\n"
     ]
    }
   ],
   "source": [
    "# 1. Create a new DataFrame that only includes customers who have a total_claim_amount greater than $1,000 \n",
    "# and have a response of \"Yes\" to the last marketing campaign.\n",
    "\n",
    "# Filter the DataFrame\n",
    "filtered_df = df_marketing[(df_marketing['Total Claim Amount'] > 1000) & (df_marketing['Response'] == 'Yes')]\n",
    "\n",
    "# Display the first few rows of the filtered DataFrame\n",
    "display(filtered_df.head())\n",
    "print(filtered_df.shape)"
   ]
  },
  {
   "cell_type": "code",
   "execution_count": 3,
   "id": "505a3592",
   "metadata": {},
   "outputs": [
    {
     "data": {
      "text/plain": [
       "Policy Type     Gender\n",
       "Corporate Auto  F         433.738499\n",
       "                M         408.582459\n",
       "Personal Auto   F         452.965929\n",
       "                M         457.010178\n",
       "Special Auto    F         453.280164\n",
       "                M         429.527942\n",
       "Name: Total Claim Amount, dtype: float64"
      ]
     },
     "metadata": {},
     "output_type": "display_data"
    }
   ],
   "source": [
    "# 2. Using the original Dataframe, analyze the average total_claim_amount by each policy type and gender for \n",
    "# customers who have responded \"Yes\" to the last marketing campaign. Write your conclusions\n",
    "\n",
    "# Filter the DataFrame to include only customers who have responded \"Yes\" to the last marketing campaign\n",
    "new_df = df_marketing[df_marketing['Response'] == 'Yes']\n",
    "\n",
    "# Group the filtered DataFrame by policy type and gender and calculate the average total_claim_amount for \n",
    "# each group\n",
    "average_claim_amount = new_df.groupby(['Policy Type', 'Gender'])['Total Claim Amount'].mean()\n",
    "\n",
    "display(average_claim_amount)\n"
   ]
  },
  {
   "cell_type": "code",
   "execution_count": 14,
   "id": "c6be682d",
   "metadata": {},
   "outputs": [
    {
     "data": {
      "text/plain": [
       "State\n",
       "Arizona       1937\n",
       "California    3552\n",
       "Nevada         993\n",
       "Oregon        2909\n",
       "Washington     888\n",
       "dtype: int64"
      ]
     },
     "metadata": {},
     "output_type": "display_data"
    }
   ],
   "source": [
    "# 3. Analyze the total number of customers who have policies in each state, and then filter the results to\n",
    "# only include states where there are more than 500 customers\n",
    "\n",
    "# Group the DataFrame by the 'state' column and count the number of customers in each state\n",
    "customers_per_state = df_marketing.groupby('State').size()\n",
    "\n",
    "display(customers_per_state)"
   ]
  },
  {
   "cell_type": "code",
   "execution_count": 15,
   "id": "77011a0d",
   "metadata": {},
   "outputs": [
    {
     "data": {
      "text/plain": [
       "State\n",
       "Arizona       1937\n",
       "California    3552\n",
       "Nevada         993\n",
       "Oregon        2909\n",
       "Washington     888\n",
       "dtype: int64"
      ]
     },
     "metadata": {},
     "output_type": "display_data"
    }
   ],
   "source": [
    "# Filter the results to include only states where there are more than 500 customers\n",
    "states_over_500_customers = customers_per_state[customers_per_state > 500]\n",
    "display(states_over_500_customers)"
   ]
  },
  {
   "cell_type": "code",
   "execution_count": 16,
   "id": "5a7b4b4b",
   "metadata": {},
   "outputs": [
    {
     "name": "stdout",
     "output_type": "stream",
     "text": [
      "                                     max          min       median\n",
      "Education            Gender                                       \n",
      "Bachelor             F       73225.95652  1904.000852  5640.505303\n",
      "                     M       67907.27050  1898.007675  5548.031892\n",
      "College              F       61850.18803  1898.683686  5623.611187\n",
      "                     M       61134.68307  1918.119700  6005.847375\n",
      "Doctor               F       44856.11397  2395.570000  5332.462694\n",
      "                     M       32677.34284  2267.604038  5577.669457\n",
      "High School or Below F       55277.44589  2144.921535  6039.553187\n",
      "                     M       83325.38119  1940.981221  6286.731006\n",
      "Master               F       51016.06704  2417.777032  5729.855012\n",
      "                     M       50568.25912  2272.307310  5579.099207\n"
     ]
    }
   ],
   "source": [
    "# 4. Find the maximum, minimum, and median customer lifetime value by education level and gender. \n",
    "# Write your conclusions.\n",
    "\n",
    "# Group the DataFrame by 'education' and 'gender', and calculate the maximum, minimum, and median customer lifetime value\n",
    "customer_lifetime_stats = df_marketing.groupby(['Education', 'Gender'])['Customer Lifetime Value'].agg(['max', 'min', 'median'])\n",
    "\n",
    "# Display the statistics\n",
    "print(customer_lifetime_stats)"
   ]
  },
  {
   "cell_type": "code",
   "execution_count": 17,
   "id": "a0359a1d",
   "metadata": {},
   "outputs": [
    {
     "data": {
      "text/html": [
       "<div>\n",
       "<style scoped>\n",
       "    .dataframe tbody tr th:only-of-type {\n",
       "        vertical-align: middle;\n",
       "    }\n",
       "\n",
       "    .dataframe tbody tr th {\n",
       "        vertical-align: top;\n",
       "    }\n",
       "\n",
       "    .dataframe thead th {\n",
       "        text-align: right;\n",
       "    }\n",
       "</style>\n",
       "<table border=\"1\" class=\"dataframe\">\n",
       "  <thead>\n",
       "    <tr style=\"text-align: right;\">\n",
       "      <th>month_num</th>\n",
       "      <th>1.0</th>\n",
       "      <th>2.0</th>\n",
       "    </tr>\n",
       "    <tr>\n",
       "      <th>State</th>\n",
       "      <th></th>\n",
       "      <th></th>\n",
       "    </tr>\n",
       "  </thead>\n",
       "  <tbody>\n",
       "    <tr>\n",
       "      <th>Arizona</th>\n",
       "      <td>1008</td>\n",
       "      <td>929</td>\n",
       "    </tr>\n",
       "    <tr>\n",
       "      <th>California</th>\n",
       "      <td>1918</td>\n",
       "      <td>1634</td>\n",
       "    </tr>\n",
       "    <tr>\n",
       "      <th>Nevada</th>\n",
       "      <td>551</td>\n",
       "      <td>442</td>\n",
       "    </tr>\n",
       "    <tr>\n",
       "      <th>Oregon</th>\n",
       "      <td>1565</td>\n",
       "      <td>1344</td>\n",
       "    </tr>\n",
       "    <tr>\n",
       "      <th>Washington</th>\n",
       "      <td>463</td>\n",
       "      <td>425</td>\n",
       "    </tr>\n",
       "  </tbody>\n",
       "</table>\n",
       "</div>"
      ],
      "text/plain": [
       "month_num    1.0   2.0\n",
       "State                 \n",
       "Arizona     1008   929\n",
       "California  1918  1634\n",
       "Nevada       551   442\n",
       "Oregon      1565  1344\n",
       "Washington   463   425"
      ]
     },
     "metadata": {},
     "output_type": "display_data"
    }
   ],
   "source": [
    "# The marketing team wants to analyze the number of policies sold by state and month. Present the data in \n",
    "# a table where the months are arranged as columns and the states are arranged as rows.\n",
    "\n",
    "df_marketing['month_num'] = df_marketing['Effective To Date'].apply(lambda x: x.split('/')[0].strip() if isinstance(x, str) else x).astype(float)\n",
    "\n",
    "policy_by_state_month = df_marketing.pivot_table(index='State', columns=['month_num'], aggfunc='size', fill_value=0)\n",
    "display(policy_by_state_month)"
   ]
  },
  {
   "cell_type": "code",
   "execution_count": 18,
   "id": "e69ae96d",
   "metadata": {},
   "outputs": [
    {
     "data": {
      "text/plain": [
       "month_num\n",
       "1.0    5818\n",
       "2.0    5092\n",
       "Name: count, dtype: int64"
      ]
     },
     "execution_count": 18,
     "metadata": {},
     "output_type": "execute_result"
    }
   ],
   "source": [
    "df_marketing.month_num.value_counts()"
   ]
  },
  {
   "cell_type": "code",
   "execution_count": 24,
   "id": "7e20123f",
   "metadata": {},
   "outputs": [
    {
     "data": {
      "text/html": [
       "<div>\n",
       "<style scoped>\n",
       "    .dataframe tbody tr th:only-of-type {\n",
       "        vertical-align: middle;\n",
       "    }\n",
       "\n",
       "    .dataframe tbody tr th {\n",
       "        vertical-align: top;\n",
       "    }\n",
       "\n",
       "    .dataframe thead th {\n",
       "        text-align: right;\n",
       "    }\n",
       "</style>\n",
       "<table border=\"1\" class=\"dataframe\">\n",
       "  <thead>\n",
       "    <tr style=\"text-align: right;\">\n",
       "      <th>month_num</th>\n",
       "      <th>1.0</th>\n",
       "      <th>2.0</th>\n",
       "    </tr>\n",
       "    <tr>\n",
       "      <th>State</th>\n",
       "      <th></th>\n",
       "      <th></th>\n",
       "    </tr>\n",
       "  </thead>\n",
       "  <tbody>\n",
       "    <tr>\n",
       "      <th>Arizona</th>\n",
       "      <td>1008</td>\n",
       "      <td>929</td>\n",
       "    </tr>\n",
       "    <tr>\n",
       "      <th>California</th>\n",
       "      <td>1918</td>\n",
       "      <td>1634</td>\n",
       "    </tr>\n",
       "    <tr>\n",
       "      <th>Nevada</th>\n",
       "      <td>551</td>\n",
       "      <td>442</td>\n",
       "    </tr>\n",
       "    <tr>\n",
       "      <th>Oregon</th>\n",
       "      <td>1565</td>\n",
       "      <td>1344</td>\n",
       "    </tr>\n",
       "    <tr>\n",
       "      <th>Washington</th>\n",
       "      <td>463</td>\n",
       "      <td>425</td>\n",
       "    </tr>\n",
       "  </tbody>\n",
       "</table>\n",
       "</div>"
      ],
      "text/plain": [
       "month_num    1.0   2.0\n",
       "State                 \n",
       "Arizona     1008   929\n",
       "California  1918  1634\n",
       "Nevada       551   442\n",
       "Oregon      1565  1344\n",
       "Washington   463   425"
      ]
     },
     "metadata": {},
     "output_type": "display_data"
    }
   ],
   "source": [
    "# 5. The marketing team wants to analyze the number of policies sold by state and month. \n",
    "# Present the data in a table where the months are arranged as columns and the states are arranged as rows.\n",
    "\n",
    "policy_by_state_month = df_marketing.pivot_table(index = 'State', columns='month_num', aggfunc='size', fill_value = 0)\n",
    "display(policy_by_state_month)"
   ]
  },
  {
   "cell_type": "code",
   "execution_count": 28,
   "id": "d0368903",
   "metadata": {},
   "outputs": [
    {
     "data": {
      "text/html": [
       "<div>\n",
       "<style scoped>\n",
       "    .dataframe tbody tr th:only-of-type {\n",
       "        vertical-align: middle;\n",
       "    }\n",
       "\n",
       "    .dataframe tbody tr th {\n",
       "        vertical-align: top;\n",
       "    }\n",
       "\n",
       "    .dataframe thead th {\n",
       "        text-align: right;\n",
       "    }\n",
       "</style>\n",
       "<table border=\"1\" class=\"dataframe\">\n",
       "  <thead>\n",
       "    <tr style=\"text-align: right;\">\n",
       "      <th>month_num</th>\n",
       "      <th>1.0</th>\n",
       "      <th>2.0</th>\n",
       "    </tr>\n",
       "    <tr>\n",
       "      <th>State</th>\n",
       "      <th></th>\n",
       "      <th></th>\n",
       "    </tr>\n",
       "  </thead>\n",
       "  <tbody>\n",
       "    <tr>\n",
       "      <th>Arizona</th>\n",
       "      <td>1008</td>\n",
       "      <td>929</td>\n",
       "    </tr>\n",
       "    <tr>\n",
       "      <th>California</th>\n",
       "      <td>1918</td>\n",
       "      <td>1634</td>\n",
       "    </tr>\n",
       "    <tr>\n",
       "      <th>Oregon</th>\n",
       "      <td>1565</td>\n",
       "      <td>1344</td>\n",
       "    </tr>\n",
       "  </tbody>\n",
       "</table>\n",
       "</div>"
      ],
      "text/plain": [
       "month_num    1.0   2.0\n",
       "State                 \n",
       "Arizona     1008   929\n",
       "California  1918  1634\n",
       "Oregon      1565  1344"
      ]
     },
     "metadata": {},
     "output_type": "display_data"
    }
   ],
   "source": [
    "# 6. Display a new DataFrame that contains the number of policies sold by month, by state, for the \n",
    "# top 3 states with the highest number of policies sold.\n",
    "\n",
    "# Group the DataFrame by 'state' and 'month' to calculate the count of policies sold for each state and month\n",
    "policy_by_state_month = df_marketing.groupby(['State', 'month_num']).size().reset_index(name='policy_count')\n",
    "\n",
    "# Sort the DataFrame by the total count of policies sold for each state in descending order\n",
    "state_policy_count = policy_by_state_month.groupby('State')['policy_count'].sum().sort_values(ascending=False)\n",
    "\n",
    "# Select the top 3 states with the highest number of policies sold\n",
    "top3_states = state_policy_count.head(3).index\n",
    "\n",
    "# Filter the original DataFrame to include only data for the selected top 3 states\n",
    "top3_states_data = df_marketing[df_marketing['State'].isin(top3_states)]\n",
    "\n",
    "policy_by_month_top_states = top3_states_data.pivot_table(index = 'State', columns = 'month_num', aggfunc='size', fill_value=0)\n",
    "\n",
    "display(policy_by_month_top_states)"
   ]
  }
 ],
 "metadata": {
  "colab": {
   "provenance": []
  },
  "kernelspec": {
   "display_name": "Python 3 (ipykernel)",
   "language": "python",
   "name": "python3"
  },
  "language_info": {
   "codemirror_mode": {
    "name": "ipython",
    "version": 3
   },
   "file_extension": ".py",
   "mimetype": "text/x-python",
   "name": "python",
   "nbconvert_exporter": "python",
   "pygments_lexer": "ipython3",
   "version": "3.11.5"
  }
 },
 "nbformat": 4,
 "nbformat_minor": 5
}
